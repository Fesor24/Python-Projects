{
 "cells": [
  {
   "cell_type": "markdown",
   "id": "c626e190",
   "metadata": {},
   "source": [
    "## Web Scraping with BeautifulSoup"
   ]
  },
  {
   "cell_type": "code",
   "execution_count": 74,
   "id": "44cd36b3",
   "metadata": {},
   "outputs": [],
   "source": [
    "#importing our libraries\n",
    "import pandas as pd\n",
    "from bs4 import BeautifulSoup\n",
    "import requests"
   ]
  },
  {
   "cell_type": "code",
   "execution_count": 75,
   "id": "bce1365e",
   "metadata": {},
   "outputs": [],
   "source": [
    "url = 'https://www.imdb.com/chart/toptv?sort=rk,asc&mode=simple&page=1'"
   ]
  },
  {
   "cell_type": "code",
   "execution_count": 76,
   "id": "b4a3cf3c",
   "metadata": {},
   "outputs": [],
   "source": [
    "movie_data= requests.get(url)"
   ]
  },
  {
   "cell_type": "code",
   "execution_count": 77,
   "id": "26cf6a81",
   "metadata": {},
   "outputs": [],
   "source": [
    "soup= BeautifulSoup(movie_data.text, 'html.parser')"
   ]
  },
  {
   "cell_type": "code",
   "execution_count": 78,
   "id": "47d5e4c6",
   "metadata": {},
   "outputs": [],
   "source": [
    "#print(soup.prettify())"
   ]
  },
  {
   "cell_type": "code",
   "execution_count": 79,
   "id": "6c021fea",
   "metadata": {},
   "outputs": [],
   "source": [
    "data= soup.find('table', class_= 'chart full-width').find('tbody', class_= 'lister-list')"
   ]
  },
  {
   "cell_type": "code",
   "execution_count": 80,
   "id": "34f567bb",
   "metadata": {},
   "outputs": [],
   "source": [
    "#print(data.prettify())"
   ]
  },
  {
   "cell_type": "code",
   "execution_count": 81,
   "id": "0ae3b554",
   "metadata": {},
   "outputs": [],
   "source": [
    "movies = data.find_all('tr')\n",
    "#movies"
   ]
  },
  {
   "cell_type": "code",
   "execution_count": 88,
   "id": "4d36b09e",
   "metadata": {},
   "outputs": [],
   "source": [
    "Ranking= []\n",
    "Moviename=[]\n",
    "Year= []\n",
    "Ratings=[]\n",
    "for movie in movies:\n",
    "    Ranking.append(movie.find('td', class_= 'titleColumn').get_text(strip=True).split('.')[0])\n",
    "    Moviename.append(movie.find('td', class_= 'titleColumn').a.text)\n",
    "    Year.append(movie.find('td', class_= 'titleColumn').span.text.strip('()'))\n",
    "    Ratings.append(movie.find('td', class_= 'ratingColumn imdbRating').text.strip('\\n'))\n",
    "    \n",
    "    "
   ]
  },
  {
   "cell_type": "code",
   "execution_count": 93,
   "id": "7d56a6cc",
   "metadata": {},
   "outputs": [],
   "source": [
    "top_250_movies_df= pd.DataFrame({'rank': Ranking, 'movie_ name': Moviename, \n",
    "                                 'year_of_release': Year, 'ratings': Ratings})\n",
    "top_250_movies_df.to_excel('IMDb_top_250_movies.xlsx')"
   ]
  },
  {
   "cell_type": "code",
   "execution_count": null,
   "id": "dee87524",
   "metadata": {},
   "outputs": [],
   "source": []
  }
 ],
 "metadata": {
  "kernelspec": {
   "display_name": "Python 3 (ipykernel)",
   "language": "python",
   "name": "python3"
  },
  "language_info": {
   "codemirror_mode": {
    "name": "ipython",
    "version": 3
   },
   "file_extension": ".py",
   "mimetype": "text/x-python",
   "name": "python",
   "nbconvert_exporter": "python",
   "pygments_lexer": "ipython3",
   "version": "3.9.7"
  }
 },
 "nbformat": 4,
 "nbformat_minor": 5
}
