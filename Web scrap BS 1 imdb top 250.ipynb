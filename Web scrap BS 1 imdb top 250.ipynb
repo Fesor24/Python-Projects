{
 "cells": [
  {
   "cell_type": "markdown",
   "id": "c626e190",
   "metadata": {},
   "source": [
    "## Web Scraping with BeautifulSoup"
   ]
  },
  {
   "cell_type": "code",
   "execution_count": 94,
   "id": "44cd36b3",
   "metadata": {},
   "outputs": [],
   "source": [
    "#importing our libraries\n",
    "import pandas as pd\n",
    "from bs4 import BeautifulSoup\n",
    "import requests"
   ]
  },
  {
   "cell_type": "code",
   "execution_count": 95,
   "id": "bce1365e",
   "metadata": {},
   "outputs": [],
   "source": [
    "url = 'https://www.imdb.com/chart/toptv?sort=rk,asc&mode=simple&page=1'"
   ]
  },
  {
   "cell_type": "code",
   "execution_count": 96,
   "id": "b4a3cf3c",
   "metadata": {},
   "outputs": [],
   "source": [
    "movie_data= requests.get(url)"
   ]
  },
  {
   "cell_type": "code",
   "execution_count": 97,
   "id": "26cf6a81",
   "metadata": {},
   "outputs": [],
   "source": [
    "soup= BeautifulSoup(movie_data.text, 'html.parser')"
   ]
  },
  {
   "cell_type": "code",
   "execution_count": 98,
   "id": "47d5e4c6",
   "metadata": {},
   "outputs": [],
   "source": [
    "#print(soup.prettify())"
   ]
  },
  {
   "cell_type": "code",
   "execution_count": 99,
   "id": "6c021fea",
   "metadata": {},
   "outputs": [],
   "source": [
    "data= soup.find('table', class_= 'chart full-width').find('tbody', class_= 'lister-list')"
   ]
  },
  {
   "cell_type": "code",
   "execution_count": 101,
   "id": "0ae3b554",
   "metadata": {},
   "outputs": [],
   "source": [
    "movies = data.find_all('tr')"
   ]
  },
  {
   "cell_type": "code",
   "execution_count": 102,
   "id": "4d36b09e",
   "metadata": {},
   "outputs": [],
   "source": [
    "Ranking= []\n",
    "Moviename=[]\n",
    "Year= []\n",
    "Ratings=[]\n",
    "for movie in movies:\n",
    "    Ranking.append(movie.find('td', class_= 'titleColumn').get_text(strip=True).split('.')[0])\n",
    "    Moviename.append(movie.find('td', class_= 'titleColumn').a.text)\n",
    "    Year.append(movie.find('td', class_= 'titleColumn').span.text.strip('()'))\n",
    "    Ratings.append(movie.find('td', class_= 'ratingColumn imdbRating').text.strip('\\n'))\n",
    "    \n",
    "    "
   ]
  },
  {
   "cell_type": "code",
   "execution_count": 103,
   "id": "7d56a6cc",
   "metadata": {},
   "outputs": [],
   "source": [
    "top_250_movies_df= pd.DataFrame({'rank': Ranking, 'movie_ name': Moviename, \n",
    "                                 'year_of_release': Year, 'ratings': Ratings})\n",
    "top_250_movies_df.to_excel('IMDb_top_250_movies.xlsx')"
   ]
  },
  {
   "cell_type": "code",
   "execution_count": 104,
   "id": "dee87524",
   "metadata": {},
   "outputs": [
    {
     "data": {
      "text/html": [
       "<div>\n",
       "<style scoped>\n",
       "    .dataframe tbody tr th:only-of-type {\n",
       "        vertical-align: middle;\n",
       "    }\n",
       "\n",
       "    .dataframe tbody tr th {\n",
       "        vertical-align: top;\n",
       "    }\n",
       "\n",
       "    .dataframe thead th {\n",
       "        text-align: right;\n",
       "    }\n",
       "</style>\n",
       "<table border=\"1\" class=\"dataframe\">\n",
       "  <thead>\n",
       "    <tr style=\"text-align: right;\">\n",
       "      <th></th>\n",
       "      <th>rank</th>\n",
       "      <th>movie_ name</th>\n",
       "      <th>year_of_release</th>\n",
       "      <th>ratings</th>\n",
       "    </tr>\n",
       "  </thead>\n",
       "  <tbody>\n",
       "    <tr>\n",
       "      <th>0</th>\n",
       "      <td>1</td>\n",
       "      <td>Planet Earth II</td>\n",
       "      <td>2016</td>\n",
       "      <td>9.4</td>\n",
       "    </tr>\n",
       "    <tr>\n",
       "      <th>1</th>\n",
       "      <td>2</td>\n",
       "      <td>Breaking Bad</td>\n",
       "      <td>2008</td>\n",
       "      <td>9.4</td>\n",
       "    </tr>\n",
       "    <tr>\n",
       "      <th>2</th>\n",
       "      <td>3</td>\n",
       "      <td>Planet Earth</td>\n",
       "      <td>2006</td>\n",
       "      <td>9.4</td>\n",
       "    </tr>\n",
       "    <tr>\n",
       "      <th>3</th>\n",
       "      <td>4</td>\n",
       "      <td>Band of Brothers</td>\n",
       "      <td>2001</td>\n",
       "      <td>9.4</td>\n",
       "    </tr>\n",
       "    <tr>\n",
       "      <th>4</th>\n",
       "      <td>5</td>\n",
       "      <td>Chernobyl</td>\n",
       "      <td>2019</td>\n",
       "      <td>9.3</td>\n",
       "    </tr>\n",
       "    <tr>\n",
       "      <th>...</th>\n",
       "      <td>...</td>\n",
       "      <td>...</td>\n",
       "      <td>...</td>\n",
       "      <td>...</td>\n",
       "    </tr>\n",
       "    <tr>\n",
       "      <th>245</th>\n",
       "      <td>246</td>\n",
       "      <td>Love, Death &amp; Robots</td>\n",
       "      <td>2019</td>\n",
       "      <td>8.4</td>\n",
       "    </tr>\n",
       "    <tr>\n",
       "      <th>246</th>\n",
       "      <td>247</td>\n",
       "      <td>Foyle's War</td>\n",
       "      <td>2002</td>\n",
       "      <td>8.4</td>\n",
       "    </tr>\n",
       "    <tr>\n",
       "      <th>247</th>\n",
       "      <td>248</td>\n",
       "      <td>Jesus of Nazareth</td>\n",
       "      <td>1977</td>\n",
       "      <td>8.4</td>\n",
       "    </tr>\n",
       "    <tr>\n",
       "      <th>248</th>\n",
       "      <td>249</td>\n",
       "      <td>Clannad: After Story</td>\n",
       "      <td>2008</td>\n",
       "      <td>8.4</td>\n",
       "    </tr>\n",
       "    <tr>\n",
       "      <th>249</th>\n",
       "      <td>250</td>\n",
       "      <td>Luther</td>\n",
       "      <td>2010</td>\n",
       "      <td>8.4</td>\n",
       "    </tr>\n",
       "  </tbody>\n",
       "</table>\n",
       "<p>250 rows × 4 columns</p>\n",
       "</div>"
      ],
      "text/plain": [
       "    rank           movie_ name year_of_release ratings\n",
       "0      1       Planet Earth II            2016     9.4\n",
       "1      2          Breaking Bad            2008     9.4\n",
       "2      3          Planet Earth            2006     9.4\n",
       "3      4      Band of Brothers            2001     9.4\n",
       "4      5             Chernobyl            2019     9.3\n",
       "..   ...                   ...             ...     ...\n",
       "245  246  Love, Death & Robots            2019     8.4\n",
       "246  247           Foyle's War            2002     8.4\n",
       "247  248     Jesus of Nazareth            1977     8.4\n",
       "248  249  Clannad: After Story            2008     8.4\n",
       "249  250                Luther            2010     8.4\n",
       "\n",
       "[250 rows x 4 columns]"
      ]
     },
     "execution_count": 104,
     "metadata": {},
     "output_type": "execute_result"
    }
   ],
   "source": [
    "top_250_movies_df"
   ]
  },
  {
   "cell_type": "code",
   "execution_count": null,
   "id": "da625f77",
   "metadata": {},
   "outputs": [],
   "source": []
  }
 ],
 "metadata": {
  "kernelspec": {
   "display_name": "Python 3 (ipykernel)",
   "language": "python",
   "name": "python3"
  },
  "language_info": {
   "codemirror_mode": {
    "name": "ipython",
    "version": 3
   },
   "file_extension": ".py",
   "mimetype": "text/x-python",
   "name": "python",
   "nbconvert_exporter": "python",
   "pygments_lexer": "ipython3",
   "version": "3.9.7"
  }
 },
 "nbformat": 4,
 "nbformat_minor": 5
}
