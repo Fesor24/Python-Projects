{
 "cells": [
  {
   "cell_type": "markdown",
   "id": "b24767a0",
   "metadata": {},
   "source": [
    "## Automate with Python"
   ]
  },
  {
   "cell_type": "markdown",
   "id": "75fe998d",
   "metadata": {},
   "source": [
    "## Convert txt files to Dataframes"
   ]
  },
  {
   "cell_type": "markdown",
   "id": "724d882e",
   "metadata": {},
   "source": [
    "### Import Libraries"
   ]
  },
  {
   "cell_type": "code",
   "execution_count": 1,
   "id": "ec6c3e8a",
   "metadata": {},
   "outputs": [],
   "source": [
    "import pandas as pd\n",
    "import os\n",
    "from collections import defaultdict as dd"
   ]
  },
  {
   "cell_type": "code",
   "execution_count": 2,
   "id": "82bcaa66",
   "metadata": {},
   "outputs": [],
   "source": [
    "path= \"C:/Users/user/Desktop/txt files\"\n",
    "txt_files= [file for file in os.listdir(path)]\n",
    "                                        \n",
    "def nested_remove(L, x):\n",
    "    if x in L:\n",
    "        L.remove(x)\n",
    "    else:\n",
    "        for element in L:\n",
    "            if type(element) is list:\n",
    "                 nested_remove(element, x)                                        \n",
    "                                        \n",
    "df= pd.DataFrame()\n",
    "\n",
    "for file in txt_files:\n",
    "    with open(path + '/' + file, 'r') as f:\n",
    "        text_list = [r.strip() for r in f.readlines() if r.strip()]\n",
    "    \n",
    "        text_list = [x.split(': ') for x in text_list]\n",
    "        \n",
    "        \n",
    "    \n",
    "        nested_remove(text_list, '----------NEW TRANSACTON-----------')\n",
    "        text_list= [x for x in text_list if x != []]\n",
    "        \n",
    "        #print(text_list)\n",
    "    \n",
    "        data = dd(list)\n",
    "        for text in text_list:\n",
    "            data[text[0]].append(text[1])\n",
    "\n",
    "# load data into a dataframe\n",
    "        df1 = pd.DataFrame(data)\n",
    "        df=pd.concat([df,df1], ignore_index=True)\n"
   ]
  },
  {
   "cell_type": "markdown",
   "id": "061a35e3",
   "metadata": {},
   "source": [
    "All we have to do is put the txt files in the file directory stored in 'txt_files' variable as seen above and run this script and all files will be formatted and converted to a Dateframe as seen below"
   ]
  },
  {
   "cell_type": "code",
   "execution_count": 3,
   "id": "b7c217e6",
   "metadata": {},
   "outputs": [
    {
     "data": {
      "text/html": [
       "<div>\n",
       "<style scoped>\n",
       "    .dataframe tbody tr th:only-of-type {\n",
       "        vertical-align: middle;\n",
       "    }\n",
       "\n",
       "    .dataframe tbody tr th {\n",
       "        vertical-align: top;\n",
       "    }\n",
       "\n",
       "    .dataframe thead th {\n",
       "        text-align: right;\n",
       "    }\n",
       "</style>\n",
       "<table border=\"1\" class=\"dataframe\">\n",
       "  <thead>\n",
       "    <tr style=\"text-align: right;\">\n",
       "      <th></th>\n",
       "      <th>TRANSACTION DATE</th>\n",
       "      <th>CLIENT ID</th>\n",
       "      <th>CLIENT NAME</th>\n",
       "      <th>AMOUNT</th>\n",
       "      <th>TRANSACTION REF.</th>\n",
       "    </tr>\n",
       "  </thead>\n",
       "  <tbody>\n",
       "    <tr>\n",
       "      <th>0</th>\n",
       "      <td>08:42 AM, 30 Nov 2021</td>\n",
       "      <td>C00001</td>\n",
       "      <td>SALISU BISI</td>\n",
       "      <td>16,450.00</td>\n",
       "      <td>00001</td>\n",
       "    </tr>\n",
       "    <tr>\n",
       "      <th>1</th>\n",
       "      <td>08:46 AM, 30 Nov 2021</td>\n",
       "      <td>C00002</td>\n",
       "      <td>SULE YAYA</td>\n",
       "      <td>80,940.00</td>\n",
       "      <td>00002</td>\n",
       "    </tr>\n",
       "    <tr>\n",
       "      <th>2</th>\n",
       "      <td>08:51 AM, 30 Nov 2021</td>\n",
       "      <td>C00001</td>\n",
       "      <td>SALISU BISI</td>\n",
       "      <td>44,900.00</td>\n",
       "      <td>00003</td>\n",
       "    </tr>\n",
       "    <tr>\n",
       "      <th>3</th>\n",
       "      <td>08:58 AM, 30 Nov 2021</td>\n",
       "      <td>C00003</td>\n",
       "      <td>ADEGOKE BAYO</td>\n",
       "      <td>60,000.00</td>\n",
       "      <td>00004</td>\n",
       "    </tr>\n",
       "    <tr>\n",
       "      <th>4</th>\n",
       "      <td>09:12 AM, 30 Nov 2021</td>\n",
       "      <td>C00004</td>\n",
       "      <td>COKER PRIYE</td>\n",
       "      <td>80,200.00</td>\n",
       "      <td>00005</td>\n",
       "    </tr>\n",
       "    <tr>\n",
       "      <th>5</th>\n",
       "      <td>09:42 AM, 04 Dec 2021</td>\n",
       "      <td>C00011</td>\n",
       "      <td>SAINT OBI</td>\n",
       "      <td>100,450.00</td>\n",
       "      <td>00101</td>\n",
       "    </tr>\n",
       "    <tr>\n",
       "      <th>6</th>\n",
       "      <td>09:54 AM, 04 Dec 2021</td>\n",
       "      <td>C00112</td>\n",
       "      <td>DESIREE MONICA</td>\n",
       "      <td>180,940.00</td>\n",
       "      <td>00102</td>\n",
       "    </tr>\n",
       "    <tr>\n",
       "      <th>7</th>\n",
       "      <td>09:58 AM, 04 Dec 2021</td>\n",
       "      <td>C00211</td>\n",
       "      <td>ALIU MUSA</td>\n",
       "      <td>544,000.00</td>\n",
       "      <td>00103</td>\n",
       "    </tr>\n",
       "    <tr>\n",
       "      <th>8</th>\n",
       "      <td>10:40 AM, 04 Dec 2021</td>\n",
       "      <td>C00112</td>\n",
       "      <td>DESIREE MONICA</td>\n",
       "      <td>860,000.00</td>\n",
       "      <td>00104</td>\n",
       "    </tr>\n",
       "    <tr>\n",
       "      <th>9</th>\n",
       "      <td>09:42 AM, 05 Dec 2021</td>\n",
       "      <td>C05011</td>\n",
       "      <td>SAINT JOE PATRICK</td>\n",
       "      <td>700,550.00</td>\n",
       "      <td>02101</td>\n",
       "    </tr>\n",
       "    <tr>\n",
       "      <th>10</th>\n",
       "      <td>10:02 AM, 05 Dec 2021</td>\n",
       "      <td>C40112</td>\n",
       "      <td>ABU SALE</td>\n",
       "      <td>180,650.00</td>\n",
       "      <td>02102</td>\n",
       "    </tr>\n",
       "  </tbody>\n",
       "</table>\n",
       "</div>"
      ],
      "text/plain": [
       "        TRANSACTION DATE  CLIENT ID        CLIENT NAME      AMOUNT   \\\n",
       "0   08:42 AM, 30 Nov 2021     C00001        SALISU BISI   16,450.00   \n",
       "1   08:46 AM, 30 Nov 2021     C00002          SULE YAYA   80,940.00   \n",
       "2   08:51 AM, 30 Nov 2021     C00001        SALISU BISI   44,900.00   \n",
       "3   08:58 AM, 30 Nov 2021     C00003       ADEGOKE BAYO   60,000.00   \n",
       "4   09:12 AM, 30 Nov 2021     C00004        COKER PRIYE   80,200.00   \n",
       "5   09:42 AM, 04 Dec 2021     C00011          SAINT OBI  100,450.00   \n",
       "6   09:54 AM, 04 Dec 2021     C00112     DESIREE MONICA  180,940.00   \n",
       "7   09:58 AM, 04 Dec 2021     C00211          ALIU MUSA  544,000.00   \n",
       "8   10:40 AM, 04 Dec 2021     C00112     DESIREE MONICA  860,000.00   \n",
       "9   09:42 AM, 05 Dec 2021     C05011  SAINT JOE PATRICK  700,550.00   \n",
       "10  10:02 AM, 05 Dec 2021     C40112           ABU SALE  180,650.00   \n",
       "\n",
       "   TRANSACTION REF.   \n",
       "0              00001  \n",
       "1              00002  \n",
       "2              00003  \n",
       "3              00004  \n",
       "4              00005  \n",
       "5              00101  \n",
       "6              00102  \n",
       "7              00103  \n",
       "8              00104  \n",
       "9              02101  \n",
       "10             02102  "
      ]
     },
     "execution_count": 3,
     "metadata": {},
     "output_type": "execute_result"
    }
   ],
   "source": [
    "df"
   ]
  },
  {
   "cell_type": "markdown",
   "id": "328a3ab2",
   "metadata": {},
   "source": [
    "### Convert to Excel file"
   ]
  },
  {
   "cell_type": "code",
   "execution_count": 4,
   "id": "1fe43a57",
   "metadata": {},
   "outputs": [],
   "source": [
    "df.to_excel('Customer_details.xlsx', index=False)"
   ]
  },
  {
   "cell_type": "markdown",
   "id": "35700679",
   "metadata": {},
   "source": [
    "We run this script above to convert the tabular data into an Excel file or if you want to convert to csv files, you run the script below"
   ]
  },
  {
   "cell_type": "code",
   "execution_count": 5,
   "id": "db9ee766",
   "metadata": {},
   "outputs": [],
   "source": [
    "df.to_csv('Customer_details.csv', index=False)"
   ]
  }
 ],
 "metadata": {
  "kernelspec": {
   "display_name": "Python 3 (ipykernel)",
   "language": "python",
   "name": "python3"
  },
  "language_info": {
   "codemirror_mode": {
    "name": "ipython",
    "version": 3
   },
   "file_extension": ".py",
   "mimetype": "text/x-python",
   "name": "python",
   "nbconvert_exporter": "python",
   "pygments_lexer": "ipython3",
   "version": "3.9.7"
  }
 },
 "nbformat": 4,
 "nbformat_minor": 5
}
