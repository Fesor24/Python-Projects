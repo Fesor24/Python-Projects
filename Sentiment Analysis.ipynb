{
 "cells": [
  {
   "cell_type": "markdown",
   "id": "fe3639d6",
   "metadata": {},
   "source": [
    "# Sentiment Analysis"
   ]
  },
  {
   "cell_type": "markdown",
   "id": "cd5964d9",
   "metadata": {},
   "source": [
    "As at the time of creating this project, my request for developer account on Twitter was still under review by Twitter so I could not access the API yet.\n",
    "\n",
    "Obtaining tweets from the API is a lot faster and easier compared to scraping the data. If I had access to the API, I could have otained the relevant data from Twitter with tweepy using keywords, e.g. 'Peter Obi' or some other factor. The alternative was to scrape tweets from Twitter so I scraped this hashtag \"#PeterObiforPresident2023\", a trend on Nigerian Twitter on 12th and 13th of June 2022.\n",
    "\n",
    "I was able to scrape 86 tweets."
   ]
  },
  {
   "cell_type": "markdown",
   "id": "82d30de2",
   "metadata": {},
   "source": [
    "## Importing our libraries"
   ]
  },
  {
   "cell_type": "code",
   "execution_count": 1,
   "id": "579e51d8",
   "metadata": {},
   "outputs": [],
   "source": [
    "from selenium import webdriver\n",
    "from selenium.webdriver.common.by import By\n",
    "from selenium.webdriver.support.ui import WebDriverWait\n",
    "from selenium.webdriver.support import expected_conditions as EC\n",
    "from wordcloud import WordCloud, STOPWORDS, ImageColorGenerator\n",
    "from PIL import Image\n",
    "from textblob import TextBlob\n",
    "import pandas as pd\n",
    "import numpy as np\n",
    "import matplotlib.pyplot as plt\n",
    "import time\n",
    "import re\n",
    "plt.style.use('seaborn-whitegrid')\n",
    "\n"
   ]
  },
  {
   "cell_type": "code",
   "execution_count": 7,
   "id": "b5808532",
   "metadata": {},
   "outputs": [],
   "source": [
    "#creating our driver object using our webdriver and passing the link to it\n",
    "path = \"C:/Users/user/chromedriver_win32_2/chromedriver.exe\"\n",
    "website= \"https://twitter.com/search?q=%23PeterObiForPresident2023&src=trend_click&vertical=trends\"\n",
    "\n",
    "driver = webdriver.Chrome(path)\n",
    "driver.get(website)\n",
    "driver.set_window_position(600, 5)\n",
    "driver.set_window_size(700, 700)"
   ]
  },
  {
   "cell_type": "code",
   "execution_count": 3,
   "id": "1aa09503",
   "metadata": {},
   "outputs": [],
   "source": [
    "#creating a formula to obtain the username and tweet for every tweet\n",
    "#the try and except is included in any instance there's no element in our code\n",
    "#this will prevent the code from breaking\n",
    "def tweet_col(element):\n",
    "    try:\n",
    "        usern= element.find_element_by_xpath(\".//span[contains(text(), '@')]\").text\n",
    "        twttext= element.find_element_by_xpath(\".//div[@lang]\").text\n",
    "    \n",
    "        data_tweets= [usern, twttext]\n",
    "    except:\n",
    "        data_tweets = [\"usern\" , \"twttext\"]  #to prevent break of our code if there's \n",
    "                                            #no element in the above code\n",
    "    return data_tweets"
   ]
  },
  {
   "cell_type": "code",
   "execution_count": 8,
   "id": "05c1a18c",
   "metadata": {},
   "outputs": [],
   "source": [
    "user=[]\n",
    "text=[]\n",
    "unique_tweets= set()\n",
    "\n",
    "scroll = True\n",
    "while scroll:\n",
    "    #adding explicit wait to our code\n",
    "    tweets = WebDriverWait(driver, 5).until(EC.presence_of_all_elements_located(\n",
    "    (By.XPATH,\"//div[@class='css-1dbjc4n r-1iusvr4 r-16y2uox r-1777fci r-kzbkwu']\")))\n",
    "\n",
    "    for tweet in tweets:\n",
    "        tweet_list= tweet_col(tweet)  #applying our function; this returns a list\n",
    "        unique_tweet = ''.join(tweet_list)\n",
    "        \n",
    "        if unique_tweet not in unique_tweets: #we are filtering here\n",
    "            unique_tweets.add(unique_tweet)  #so we don't have duplicate tweets\n",
    "            usern= tweet_list[0]\n",
    "            user.append(tweet_list[0])\n",
    "            text.append(\" \".join(tweet_list[1].split()))\n",
    "            \n",
    "    last_height = driver.execute_script(\"return document.body.scrollHeight\")\n",
    "    while True:\n",
    "        driver.execute_script(\"window.scrollTo(0, document.body.scrollHeight)\")\n",
    "        time.sleep(3)\n",
    "        new_height = driver.execute_script(\"return document.body.scrollHeight\")\n",
    "        \n",
    "        if new_height == last_height: #this will break the outer while loop as well\n",
    "            scroll = False           #as the inner loop when the last page is same sa\n",
    "            break\n",
    "        else:\n",
    "            last_height= new_height\n",
    "            break\n",
    "            \n",
    "driver.quit()\n",
    "        \n"
   ]
  },
  {
   "cell_type": "markdown",
   "id": "58abe2d0",
   "metadata": {},
   "source": [
    "Running this code returned 82 tweets. If I ran the code again, more tweets could be returned as the first time I ran the code, it returned 150+ tweets. \n",
    "\n",
    "However, as selenium is extremely slow and requires lot of patience when scraping, I'll work with the 82 tweets that were returned."
   ]
  },
  {
   "cell_type": "code",
   "execution_count": 30,
   "id": "11899489",
   "metadata": {},
   "outputs": [
    {
     "data": {
      "text/plain": [
       "82"
      ]
     },
     "execution_count": 30,
     "metadata": {},
     "output_type": "execute_result"
    }
   ],
   "source": [
    "len(user)"
   ]
  },
  {
   "cell_type": "code",
   "execution_count": 10,
   "id": "0860c6a2",
   "metadata": {},
   "outputs": [
    {
     "data": {
      "text/html": [
       "<div>\n",
       "<style scoped>\n",
       "    .dataframe tbody tr th:only-of-type {\n",
       "        vertical-align: middle;\n",
       "    }\n",
       "\n",
       "    .dataframe tbody tr th {\n",
       "        vertical-align: top;\n",
       "    }\n",
       "\n",
       "    .dataframe thead th {\n",
       "        text-align: right;\n",
       "    }\n",
       "</style>\n",
       "<table border=\"1\" class=\"dataframe\">\n",
       "  <thead>\n",
       "    <tr style=\"text-align: right;\">\n",
       "      <th></th>\n",
       "      <th>user</th>\n",
       "      <th>tweets</th>\n",
       "    </tr>\n",
       "  </thead>\n",
       "  <tbody>\n",
       "    <tr>\n",
       "      <th>0</th>\n",
       "      <td>@MLS_Teey</td>\n",
       "      <td>The reality is that one grid/greed must give w...</td>\n",
       "    </tr>\n",
       "    <tr>\n",
       "      <th>1</th>\n",
       "      <td>@iyke_nwabuko</td>\n",
       "      <td>Peter Obi carry me go, for better Naija #Peter...</td>\n",
       "    </tr>\n",
       "    <tr>\n",
       "      <th>2</th>\n",
       "      <td>@Kk_frontline</td>\n",
       "      <td>Dear Nigerians, Stay positive, the good news i...</td>\n",
       "    </tr>\n",
       "    <tr>\n",
       "      <th>3</th>\n",
       "      <td>@ejykmykel1</td>\n",
       "      <td>Ndi Enugu, Locate a center close to you for IN...</td>\n",
       "    </tr>\n",
       "    <tr>\n",
       "      <th>4</th>\n",
       "      <td>@Shehusky</td>\n",
       "      <td>If Twitter is buzzing with their candidate the...</td>\n",
       "    </tr>\n",
       "    <tr>\n",
       "      <th>...</th>\n",
       "      <td>...</td>\n",
       "      <td>...</td>\n",
       "    </tr>\n",
       "    <tr>\n",
       "      <th>77</th>\n",
       "      <td>@_sylverlyn_</td>\n",
       "      <td>This is how it will happen #PeterObiForPreside...</td>\n",
       "    </tr>\n",
       "    <tr>\n",
       "      <th>78</th>\n",
       "      <td>@AramideOyekunle</td>\n",
       "      <td>Without tribalism, if you believe Peter Obi wi...</td>\n",
       "    </tr>\n",
       "    <tr>\n",
       "      <th>79</th>\n",
       "      <td>@SirCharles0001</td>\n",
       "      <td>Expect Propaganda against Obi. They are so sca...</td>\n",
       "    </tr>\n",
       "    <tr>\n",
       "      <th>80</th>\n",
       "      <td>@real_westino</td>\n",
       "      <td>After seeing this from the presidential spokes...</td>\n",
       "    </tr>\n",
       "    <tr>\n",
       "      <th>81</th>\n",
       "      <td>@Ojiniephraim</td>\n",
       "      <td>At least have a reason to go get your PVC and ...</td>\n",
       "    </tr>\n",
       "  </tbody>\n",
       "</table>\n",
       "<p>82 rows × 2 columns</p>\n",
       "</div>"
      ],
      "text/plain": [
       "                user                                             tweets\n",
       "0          @MLS_Teey  The reality is that one grid/greed must give w...\n",
       "1      @iyke_nwabuko  Peter Obi carry me go, for better Naija #Peter...\n",
       "2      @Kk_frontline  Dear Nigerians, Stay positive, the good news i...\n",
       "3        @ejykmykel1  Ndi Enugu, Locate a center close to you for IN...\n",
       "4          @Shehusky  If Twitter is buzzing with their candidate the...\n",
       "..               ...                                                ...\n",
       "77      @_sylverlyn_  This is how it will happen #PeterObiForPreside...\n",
       "78  @AramideOyekunle  Without tribalism, if you believe Peter Obi wi...\n",
       "79   @SirCharles0001  Expect Propaganda against Obi. They are so sca...\n",
       "80     @real_westino  After seeing this from the presidential spokes...\n",
       "81     @Ojiniephraim  At least have a reason to go get your PVC and ...\n",
       "\n",
       "[82 rows x 2 columns]"
      ]
     },
     "execution_count": 10,
     "metadata": {},
     "output_type": "execute_result"
    }
   ],
   "source": [
    "obi_tweets= pd.DataFrame({\"user\": user, \"tweets\": text})\n",
    "obi_tweets"
   ]
  },
  {
   "cell_type": "code",
   "execution_count": 12,
   "id": "9cc33b10",
   "metadata": {},
   "outputs": [],
   "source": [
    "#clean tweet texts\n",
    "\n",
    "#creating a function using regex to clean the tweets\n",
    "def cleantweet(text):\n",
    "    text= re.sub(r'@[A-Za-z0-9]+', '', text) #this removes @mentions\n",
    "    text=re.sub(r'#', '', text) #removing the hastag symbol\n",
    "    text= re.sub(r'https?:\\/\\/\\S+', '', text) #remove our hyperlink\n",
    "    \n",
    "    return text"
   ]
  },
  {
   "cell_type": "code",
   "execution_count": 13,
   "id": "8f1dfe52",
   "metadata": {},
   "outputs": [],
   "source": [
    "obi_tweets['tweets'] = obi_tweets['tweets'].apply(cleantweet)"
   ]
  },
  {
   "cell_type": "code",
   "execution_count": 14,
   "id": "cc3b0454",
   "metadata": {},
   "outputs": [
    {
     "data": {
      "text/plain": [
       "0     The reality is that one grid/greed must give w...\n",
       "1     Peter Obi carry me go, for better Naija PeterO...\n",
       "2     Dear Nigerians, Stay positive, the good news i...\n",
       "3     Ndi Enugu, Locate a center close to you for IN...\n",
       "4     If Twitter is buzzing with their candidate the...\n",
       "                            ...                        \n",
       "77    This is how it will happen PeterObiForPresiden...\n",
       "78    Without tribalism, if you believe Peter Obi wi...\n",
       "79    Expect Propaganda against Obi. They are so sca...\n",
       "80    After seeing this from the presidential spokes...\n",
       "81    At least have a reason to go get your PVC and ...\n",
       "Name: tweets, Length: 82, dtype: object"
      ]
     },
     "execution_count": 14,
     "metadata": {},
     "output_type": "execute_result"
    }
   ],
   "source": [
    "obi_tweets['tweets']"
   ]
  },
  {
   "cell_type": "code",
   "execution_count": 15,
   "id": "4c3e69df",
   "metadata": {},
   "outputs": [],
   "source": [
    "#obtain the subjectivity \n",
    "def get_subject(text):  \n",
    "    #subjectivity tells how subjective or opinionated the text is\n",
    "    return TextBlob(text).sentiment.subjectivity\n",
    "\n",
    "#obtain the polarity\n",
    "def get_polarity(text):\n",
    "    #tells how positive or negative the text is\n",
    "    return TextBlob(text).sentiment.polarity"
   ]
  },
  {
   "cell_type": "code",
   "execution_count": 16,
   "id": "b31bcb46",
   "metadata": {},
   "outputs": [],
   "source": [
    "#creating our subjectivity and polarity columns\n",
    "obi_tweets['subjectivity']= obi_tweets['tweets'].apply(get_subject)\n",
    "obi_tweets['polarity']=obi_tweets['tweets'].apply(get_polarity)"
   ]
  },
  {
   "cell_type": "code",
   "execution_count": 17,
   "id": "2c9f6bdb",
   "metadata": {},
   "outputs": [
    {
     "data": {
      "text/html": [
       "<div>\n",
       "<style scoped>\n",
       "    .dataframe tbody tr th:only-of-type {\n",
       "        vertical-align: middle;\n",
       "    }\n",
       "\n",
       "    .dataframe tbody tr th {\n",
       "        vertical-align: top;\n",
       "    }\n",
       "\n",
       "    .dataframe thead th {\n",
       "        text-align: right;\n",
       "    }\n",
       "</style>\n",
       "<table border=\"1\" class=\"dataframe\">\n",
       "  <thead>\n",
       "    <tr style=\"text-align: right;\">\n",
       "      <th></th>\n",
       "      <th>user</th>\n",
       "      <th>tweets</th>\n",
       "      <th>subjectivity</th>\n",
       "      <th>polarity</th>\n",
       "    </tr>\n",
       "  </thead>\n",
       "  <tbody>\n",
       "    <tr>\n",
       "      <th>0</th>\n",
       "      <td>@MLS_Teey</td>\n",
       "      <td>The reality is that one grid/greed must give w...</td>\n",
       "      <td>0.337500</td>\n",
       "      <td>-0.062500</td>\n",
       "    </tr>\n",
       "    <tr>\n",
       "      <th>1</th>\n",
       "      <td>@iyke_nwabuko</td>\n",
       "      <td>Peter Obi carry me go, for better Naija PeterO...</td>\n",
       "      <td>0.500000</td>\n",
       "      <td>0.500000</td>\n",
       "    </tr>\n",
       "    <tr>\n",
       "      <th>2</th>\n",
       "      <td>@Kk_frontline</td>\n",
       "      <td>Dear Nigerians, Stay positive, the good news i...</td>\n",
       "      <td>0.562374</td>\n",
       "      <td>0.211869</td>\n",
       "    </tr>\n",
       "    <tr>\n",
       "      <th>3</th>\n",
       "      <td>@ejykmykel1</td>\n",
       "      <td>Ndi Enugu, Locate a center close to you for IN...</td>\n",
       "      <td>0.100000</td>\n",
       "      <td>-0.100000</td>\n",
       "    </tr>\n",
       "    <tr>\n",
       "      <th>4</th>\n",
       "      <td>@Shehusky</td>\n",
       "      <td>If Twitter is buzzing with their candidate the...</td>\n",
       "      <td>0.550000</td>\n",
       "      <td>-0.200000</td>\n",
       "    </tr>\n",
       "    <tr>\n",
       "      <th>...</th>\n",
       "      <td>...</td>\n",
       "      <td>...</td>\n",
       "      <td>...</td>\n",
       "      <td>...</td>\n",
       "    </tr>\n",
       "    <tr>\n",
       "      <th>77</th>\n",
       "      <td>@_sylverlyn_</td>\n",
       "      <td>This is how it will happen PeterObiForPresiden...</td>\n",
       "      <td>0.000000</td>\n",
       "      <td>0.000000</td>\n",
       "    </tr>\n",
       "    <tr>\n",
       "      <th>78</th>\n",
       "      <td>@AramideOyekunle</td>\n",
       "      <td>Without tribalism, if you believe Peter Obi wi...</td>\n",
       "      <td>0.455556</td>\n",
       "      <td>0.477778</td>\n",
       "    </tr>\n",
       "    <tr>\n",
       "      <th>79</th>\n",
       "      <td>@SirCharles0001</td>\n",
       "      <td>Expect Propaganda against Obi. They are so sca...</td>\n",
       "      <td>0.083333</td>\n",
       "      <td>-0.133333</td>\n",
       "    </tr>\n",
       "    <tr>\n",
       "      <th>80</th>\n",
       "      <td>@real_westino</td>\n",
       "      <td>After seeing this from the presidential spokes...</td>\n",
       "      <td>0.550000</td>\n",
       "      <td>0.350000</td>\n",
       "    </tr>\n",
       "    <tr>\n",
       "      <th>81</th>\n",
       "      <td>@Ojiniephraim</td>\n",
       "      <td>At least have a reason to go get your PVC and ...</td>\n",
       "      <td>0.400000</td>\n",
       "      <td>-0.300000</td>\n",
       "    </tr>\n",
       "  </tbody>\n",
       "</table>\n",
       "<p>82 rows × 4 columns</p>\n",
       "</div>"
      ],
      "text/plain": [
       "                user                                             tweets  \\\n",
       "0          @MLS_Teey  The reality is that one grid/greed must give w...   \n",
       "1      @iyke_nwabuko  Peter Obi carry me go, for better Naija PeterO...   \n",
       "2      @Kk_frontline  Dear Nigerians, Stay positive, the good news i...   \n",
       "3        @ejykmykel1  Ndi Enugu, Locate a center close to you for IN...   \n",
       "4          @Shehusky  If Twitter is buzzing with their candidate the...   \n",
       "..               ...                                                ...   \n",
       "77      @_sylverlyn_  This is how it will happen PeterObiForPresiden...   \n",
       "78  @AramideOyekunle  Without tribalism, if you believe Peter Obi wi...   \n",
       "79   @SirCharles0001  Expect Propaganda against Obi. They are so sca...   \n",
       "80     @real_westino  After seeing this from the presidential spokes...   \n",
       "81     @Ojiniephraim  At least have a reason to go get your PVC and ...   \n",
       "\n",
       "    subjectivity  polarity  \n",
       "0       0.337500 -0.062500  \n",
       "1       0.500000  0.500000  \n",
       "2       0.562374  0.211869  \n",
       "3       0.100000 -0.100000  \n",
       "4       0.550000 -0.200000  \n",
       "..           ...       ...  \n",
       "77      0.000000  0.000000  \n",
       "78      0.455556  0.477778  \n",
       "79      0.083333 -0.133333  \n",
       "80      0.550000  0.350000  \n",
       "81      0.400000 -0.300000  \n",
       "\n",
       "[82 rows x 4 columns]"
      ]
     },
     "execution_count": 17,
     "metadata": {},
     "output_type": "execute_result"
    }
   ],
   "source": [
    "obi_tweets"
   ]
  },
  {
   "cell_type": "code",
   "execution_count": 22,
   "id": "b04f0e58",
   "metadata": {},
   "outputs": [
    {
     "data": {
      "image/png": "[encoded data removed]",
      "text/plain": [
       "<Figure size 432x288 with 1 Axes>"
      ]
     },
     "metadata": {},
     "output_type": "display_data"
    }
   ],
   "source": [
    "#lets create our wordcloud\n",
    "stopwords = set(STOPWORDS)\n",
    "#words we want to remove from our wordcloud\n",
    "stopwords.add(\"will\")\n",
    "stopwords.add(\"go\")\n",
    "stopwords.add(\"let\")\n",
    "stopwords.add(\"11\")\n",
    "stopwords.add('d')\n",
    "stopwords.add('s')\n",
    "stopwords.add('we')\n",
    "stopwords.add('us')\n",
    "\n",
    "allwords = ''.join(i for i in obi_tweets['tweets'])\n",
    "custom_mask= np.array(Image.open('C:/Users/user/desktop/pet.jpg'))\n",
    "wordcloud= WordCloud(width= 700,  background_color='white',stopwords= \n",
    "                     stopwords ,mask = custom_mask,\n",
    "                     max_font_size= 400)\n",
    "wordcloud.generate(allwords)\n",
    "image_color = ImageColorGenerator(custom_mask)\n",
    "wordcloud.recolor(color_func = image_color)\n",
    "\n",
    "plt.imshow(wordcloud, interpolation= 'bilinear')\n",
    "plt.axis('off')\n",
    "wordcloud.to_file('peter_obi.png')\n",
    "plt.show()"
   ]
  },
  {
   "cell_type": "code",
   "execution_count": 23,
   "id": "faddc2c3",
   "metadata": {},
   "outputs": [],
   "source": [
    "#create a fucntion to compute negative, neutral and positive analysis\n",
    "def get_analysis(value):\n",
    "  if value < 0:\n",
    "    return 'Negative'\n",
    "  elif value == 0:\n",
    "    return 'Neutral'\n",
    "  else:\n",
    "    return 'Positive'"
   ]
  },
  {
   "cell_type": "code",
   "execution_count": 24,
   "id": "465398a7",
   "metadata": {},
   "outputs": [
    {
     "data": {
      "text/html": [
       "<div>\n",
       "<style scoped>\n",
       "    .dataframe tbody tr th:only-of-type {\n",
       "        vertical-align: middle;\n",
       "    }\n",
       "\n",
       "    .dataframe tbody tr th {\n",
       "        vertical-align: top;\n",
       "    }\n",
       "\n",
       "    .dataframe thead th {\n",
       "        text-align: right;\n",
       "    }\n",
       "</style>\n",
       "<table border=\"1\" class=\"dataframe\">\n",
       "  <thead>\n",
       "    <tr style=\"text-align: right;\">\n",
       "      <th></th>\n",
       "      <th>user</th>\n",
       "      <th>tweets</th>\n",
       "      <th>subjectivity</th>\n",
       "      <th>polarity</th>\n",
       "      <th>analysis</th>\n",
       "    </tr>\n",
       "  </thead>\n",
       "  <tbody>\n",
       "    <tr>\n",
       "      <th>0</th>\n",
       "      <td>@MLS_Teey</td>\n",
       "      <td>The reality is that one grid/greed must give w...</td>\n",
       "      <td>0.337500</td>\n",
       "      <td>-0.062500</td>\n",
       "      <td>Negative</td>\n",
       "    </tr>\n",
       "    <tr>\n",
       "      <th>1</th>\n",
       "      <td>@iyke_nwabuko</td>\n",
       "      <td>Peter Obi carry me go, for better Naija PeterO...</td>\n",
       "      <td>0.500000</td>\n",
       "      <td>0.500000</td>\n",
       "      <td>Positive</td>\n",
       "    </tr>\n",
       "    <tr>\n",
       "      <th>2</th>\n",
       "      <td>@Kk_frontline</td>\n",
       "      <td>Dear Nigerians, Stay positive, the good news i...</td>\n",
       "      <td>0.562374</td>\n",
       "      <td>0.211869</td>\n",
       "      <td>Positive</td>\n",
       "    </tr>\n",
       "    <tr>\n",
       "      <th>3</th>\n",
       "      <td>@ejykmykel1</td>\n",
       "      <td>Ndi Enugu, Locate a center close to you for IN...</td>\n",
       "      <td>0.100000</td>\n",
       "      <td>-0.100000</td>\n",
       "      <td>Negative</td>\n",
       "    </tr>\n",
       "    <tr>\n",
       "      <th>4</th>\n",
       "      <td>@Shehusky</td>\n",
       "      <td>If Twitter is buzzing with their candidate the...</td>\n",
       "      <td>0.550000</td>\n",
       "      <td>-0.200000</td>\n",
       "      <td>Negative</td>\n",
       "    </tr>\n",
       "    <tr>\n",
       "      <th>...</th>\n",
       "      <td>...</td>\n",
       "      <td>...</td>\n",
       "      <td>...</td>\n",
       "      <td>...</td>\n",
       "      <td>...</td>\n",
       "    </tr>\n",
       "    <tr>\n",
       "      <th>77</th>\n",
       "      <td>@_sylverlyn_</td>\n",
       "      <td>This is how it will happen PeterObiForPresiden...</td>\n",
       "      <td>0.000000</td>\n",
       "      <td>0.000000</td>\n",
       "      <td>Neutral</td>\n",
       "    </tr>\n",
       "    <tr>\n",
       "      <th>78</th>\n",
       "      <td>@AramideOyekunle</td>\n",
       "      <td>Without tribalism, if you believe Peter Obi wi...</td>\n",
       "      <td>0.455556</td>\n",
       "      <td>0.477778</td>\n",
       "      <td>Positive</td>\n",
       "    </tr>\n",
       "    <tr>\n",
       "      <th>79</th>\n",
       "      <td>@SirCharles0001</td>\n",
       "      <td>Expect Propaganda against Obi. They are so sca...</td>\n",
       "      <td>0.083333</td>\n",
       "      <td>-0.133333</td>\n",
       "      <td>Negative</td>\n",
       "    </tr>\n",
       "    <tr>\n",
       "      <th>80</th>\n",
       "      <td>@real_westino</td>\n",
       "      <td>After seeing this from the presidential spokes...</td>\n",
       "      <td>0.550000</td>\n",
       "      <td>0.350000</td>\n",
       "      <td>Positive</td>\n",
       "    </tr>\n",
       "    <tr>\n",
       "      <th>81</th>\n",
       "      <td>@Ojiniephraim</td>\n",
       "      <td>At least have a reason to go get your PVC and ...</td>\n",
       "      <td>0.400000</td>\n",
       "      <td>-0.300000</td>\n",
       "      <td>Negative</td>\n",
       "    </tr>\n",
       "  </tbody>\n",
       "</table>\n",
       "<p>82 rows × 5 columns</p>\n",
       "</div>"
      ],
      "text/plain": [
       "                user                                             tweets  \\\n",
       "0          @MLS_Teey  The reality is that one grid/greed must give w...   \n",
       "1      @iyke_nwabuko  Peter Obi carry me go, for better Naija PeterO...   \n",
       "2      @Kk_frontline  Dear Nigerians, Stay positive, the good news i...   \n",
       "3        @ejykmykel1  Ndi Enugu, Locate a center close to you for IN...   \n",
       "4          @Shehusky  If Twitter is buzzing with their candidate the...   \n",
       "..               ...                                                ...   \n",
       "77      @_sylverlyn_  This is how it will happen PeterObiForPresiden...   \n",
       "78  @AramideOyekunle  Without tribalism, if you believe Peter Obi wi...   \n",
       "79   @SirCharles0001  Expect Propaganda against Obi. They are so sca...   \n",
       "80     @real_westino  After seeing this from the presidential spokes...   \n",
       "81     @Ojiniephraim  At least have a reason to go get your PVC and ...   \n",
       "\n",
       "    subjectivity  polarity  analysis  \n",
       "0       0.337500 -0.062500  Negative  \n",
       "1       0.500000  0.500000  Positive  \n",
       "2       0.562374  0.211869  Positive  \n",
       "3       0.100000 -0.100000  Negative  \n",
       "4       0.550000 -0.200000  Negative  \n",
       "..           ...       ...       ...  \n",
       "77      0.000000  0.000000   Neutral  \n",
       "78      0.455556  0.477778  Positive  \n",
       "79      0.083333 -0.133333  Negative  \n",
       "80      0.550000  0.350000  Positive  \n",
       "81      0.400000 -0.300000  Negative  \n",
       "\n",
       "[82 rows x 5 columns]"
      ]
     },
     "execution_count": 24,
     "metadata": {},
     "output_type": "execute_result"
    }
   ],
   "source": [
    "obi_tweets['analysis'] = obi_tweets['polarity'].apply(get_analysis)\n",
    "obi_tweets"
   ]
  },
  {
   "cell_type": "code",
   "execution_count": 25,
   "id": "1db52b62",
   "metadata": {},
   "outputs": [
    {
     "name": "stdout",
     "output_type": "stream",
     "text": [
      "1) Peter Obi carry me go, for better Naija PeterObiForPresident2023\n",
      "\n",
      "2) Dear Nigerians, Stay positive, the good news is coming. We are working hard. kwankwaso PeterObiForPresident2023 Kwankwaso/Obi or Obi/Kwankwaso. Just Retweet.\n",
      "\n",
      "3) Even if they succeeded in baning social media, they can't ban my brain ni. PeterObiForPresident2023 have already registered in my memory so i take it to street with full mind and strength forward ever backward never is late.\n",
      "\n",
      "4) Most of the people on social media campaigning for Tinubu or Atiku are political jobbers. Go and verify. PeterObiForPresident2023\n",
      "\n",
      "5) I’ll render my family’s warehouse in zaria for Peter obi, as an extension of an office, this time Nigeria must be saved, we are all OBIdients , I’ll also help in educating people more, the benefits of choosing  as our next president PeterObiForPresident2023\n",
      "\n",
      "6) Without tribalism, if you believe Peter Obi will win the fort coming presidential election. Kindly Like and retweet Remember the power of social media... Liquorose𓃵 lasu/ Olamide/Big Wiz/Zulum/Lagos state/Aminu Dantata/Toke/Dipo/Rinu PeterObiForPresident2023\n",
      "\n",
      "7) A moment with  will tell you a lot about why he is so loved. Is it my eyes or is there really a resemblance?. Please let's all get our PVC we need this man in power PeterObiForPresident2023 OBIdient Elections2022\n",
      "\n",
      "8) This is Badagry/Ibereko  office. We have been here since. Some people since 4am. And the official are collecting bribe to take in new people. By all means,  must be president. PeterObiForPresident2023 TakeBackNaija\n",
      "\n",
      "9) All of a sudden Peter Obi is now the strong opposition: Focused on your candidate. Be OBIdients PeterObiForPresident2023\n",
      "\n",
      "10) We are making progress, we are moving forward, we are achieving our aims. Good must prevail of devil.  __ PeterObi4President PeterObiForPresident2023\n",
      "\n",
      "11) If you are convinced about Peter Obi and ready to vote for him, Retweet and like. Let's spread the news. PeterObiForPresident2023 OBIdients TakeBackNigeria\n",
      "\n",
      "12) First time I am siding with someone politically here with my chest. if we don't save Nigeria there will be nothing left. PeterObiForPresident2023\n",
      "\n",
      "13) 7 days to go to the deadline which is on the 22, I’m not taking payment after!!! For more enquiries or making of payment, call or send me a direct message. GO GET YOUR PVC NOW! OBIdients PeterObiForPresident2023\n",
      "\n",
      "14) It is only the OBIdients I want to gather here. Peter Obi is the only mandate we stand... Like and retweet.. Super Eagle/ Mercy Aigbe/ doggy /Iwobi/Kwankwaso EndASUUStrike Fashola/Young Thug/Obi Cubana PeterObiForPresident2023\n",
      "\n",
      "15) Not all heroes wear Cape, TakeBackNigeria Enugu unit is doing a lot. Ogbete Main Market is OBI-DIENTS now. A physical meeting is coming up soon. Every Peter Obi supporter is welcomed, more volunteers needed. Stay tune PeterObiForPresident2023  __\n",
      "\n",
      "16) ISAIAH 1:19 If you are willing and OBI-dient, You shall eat the good of the land. READ THAT AGAIN 1 BTC Olosho PeterObiForPresident2023\n",
      "\n",
      "17) Good morning nija. God bless PETER OBI God bless the federal republic of Nigeria PeterObiForPresident2023\n",
      "\n",
      "18) Am a youth I love my country and believe in the future of this country and yes Am Hausa Fulani from kano...and I believe  is the solution. Join me let’s kick discrimination and fight for a new Nigeria with Peter PeterObiForPresident2023 iamobident\n",
      "\n",
      "19) I'm for the northern part of Nigeria and am proudly in support of Peter Obi PeterObiForPresident2023 PeterObi2023 PeterObi4President2023 PeterObi4President Peter Obi Obi Cubana Psquare PeterObi OBIdient Kwankwaso\n",
      "\n",
      "20) Even Sowore is using  to chase clout, lol. Everyone of the naysayers can’t keep Obi’s name out of their mouth. We will shock them PeterObiForPresident2023\n",
      "\n",
      "21) A word is enough for the wise. Like and retweet until every youth in Nigeria get to hear this. OBIdients MyPeterObi AtikuVP PeterObiForPresident2023\n",
      "\n",
      "22) I love Kwankwaso, but I’ll vote Peter Obi for equity. If they merge, I’ll prefer to Obi in No 1, while Kwankwaso comes as VP. PeterObiForPresident2023\n",
      "\n",
      "23) Somewhere in Jalingo, physical meeting. TakeBackNaija Taraba chapter.Thanks to our lovely Northern people together Nigeria must work in our time. _  We are the structure. TakeBackNaija OBIdients PeterObi PeterObi2023 PeterObiForPresident2023\n",
      "\n",
      "24) If Peter Obi and Kwankwaso join forces, they'll totally demolish APC & PDP in one fell swoop just like the Super Eagles did to Sao Tome. The numbers those two can pull will be so staggering INEC server might collapse like our fragile national grid. PeterObiForPresident2023\n",
      "\n",
      "25) For sure they will never forgive me,and for me to avoid that is to vote for someone that is capable of rescuing their future,and InshAllah they will be very proud of PeterObiForPresident2023\n",
      "\n",
      "26) Isn’t it surprising that supposedly educated & informed adults rather than attack APC administration that has inflicted maximum injury on the population,are busy attacking Peter Obi/Labour Party.What exactly is your problem?Common sense isn’t common sha PeterObiForPresident2023\n",
      "\n",
      "27) Na president way dey carry him own bag I dey follow oo. OBI-dients na lie? OBIdients PeterObiForPresident2023\n",
      "\n",
      "28) Someone wanted proofs on how Peter obi will change this country that he should come and say it. Proofs full everywhere o, he has said it. And we are suffering from wastage. We need accountability and  is the man for the job PeterObiForPresident2023\n",
      "\n",
      "29) Never mind them, onu kwuru njo ga ekwu mma…..who can complete this song?? PeterObiForPresident2023\n",
      "\n",
      "30) We will never forget. I'd hold this grudge against APC forever. To all souls we lost, and to the souls of Owo Massacre, fly high heroes. PeterObiForPresident2023\n",
      "\n",
      "31) What are you waiting for? Go and verify. Better be OBIdient PeterObiForPresident2023\n",
      "\n",
      "32) My uncle who used to be a very staunch PDP man just decamped from the party to join the Labour Party and is contesting for imo state house of assembly under Labour Party. The Peter Obi effect. We move! VoteLabourParty MyPeterObi PeterObi2023 PeterObiForPresident2023\n",
      "\n",
      "33) Peter Obi, thanks for deciding to go for us the youths against these canals holding us down for decades. Go and verify PeterObiForPresident2023\n",
      "\n",
      "34) Until they start calling you \"Obi's son\" Your awareness for  never hit them. People now call me 'Omo obi' Are you proud to be an OBIdient? OBIdients PeterObiForPresident2023 PeterObi PeterObi4President PeterObi kwakwanso GetYourPVC TakeBackNaija\n",
      "\n",
      "35) Akwa Ibom State for  Discovery Park, Uyo. Discussion on strategies for sensitizing voters on the need for registration and collection of PVCs across the 31LGAs. Great job  . PeterObiForPresident2023 My President Lagos National Grid Mr Jollof\n",
      "\n",
      "36) Abuse me tell me I turn back on my own people doesn’t change the fact am fighting for what is right and yes Peter obi is the solution PeterObiForPresident2023\n",
      "\n",
      "37) We all want a new Nigeria. But how can a man who spent so much in dollars. $40,000 per delegate give us a better Nigeria? Let's go for integrity. The new Nigeria of our dream can be assured only on  PeterObiForPresident2023 the3rdforce\n",
      "\n",
      "38) DO NOT BE CAUGHT NAPPING AGAIN IN 2023 TO AVOID EXTENDING YOUR SUFFERINGS. YOUTHS Be WISE! !! !!! PeterObiForPresident2023\n",
      "\n",
      "39) Amazing, Peter Obi is indeed the gift that keeps on giving!!! Nigeria desperately needs PeterObiForPresident2023\n",
      "\n",
      "40) I might have done some wrongs in the past, but I met someone  that inspired me to always do the right thing, which will give me the confident to tell people to go and verify. if you are yet to get your Voters Card you are wrong. _ PeterObiForPresident2023\n",
      "\n",
      "41) I am not voting Perter Obi because I want him to win. I am voting him because I want to win. It is not about Peter Obi, it's about my future, family and my country Nigeria. PeterObiForPresident2023\n",
      "\n",
      "42) Without tribalism, if you believe Peter Obi will win the fort coming presidential election. Kindly Like and retweet Remember the power of social media... lasu/ Olamide/Big Wiz/Zulum/Lagos state/Aminu Dantata/Toke/Dipo/Rinu PeterObiForPresident2023\n",
      "\n",
      "43) After seeing this from the presidential spokesperson I understood that peter OBI fever is heating up aso rock and APC full time, PDP is not their problem PETER OBI is their problem PeterObiForPresident2023 go and verify interim president Igbo Kano OBIdient obi cubana\n",
      "\n"
     ]
    }
   ],
   "source": [
    "#lets look at the positive tweets\n",
    "x = 1\n",
    "sorteddf= obi_tweets.sort_values(by= ['polarity'])\n",
    "for i in range(0,sorteddf.shape[0]):\n",
    "    if (sorteddf['analysis'][i] == 'Positive'):\n",
    "        print(str(x) + ') ' + sorteddf['tweets'][i])\n",
    "        print()\n",
    "        x+=1"
   ]
  },
  {
   "cell_type": "code",
   "execution_count": 26,
   "id": "71f52e4d",
   "metadata": {},
   "outputs": [
    {
     "name": "stdout",
     "output_type": "stream",
     "text": [
      "1) The reality is that one grid/greed must give way for the other. If you want National grid to survive, you must kill your personal greed and vote for PeterObi2023 OBIdients PeterObiForPresident2023\n",
      "\n",
      "2) Ndi Enugu, Locate a center close to you for INEC Continuous Voters Card Registration. Retweet Aggressively PeterObiForPresident2023 PeterObi4President PeterObi2023 _ikemba _City __City __ _naza \n",
      "\n",
      "3) If Twitter is buzzing with their candidate they will be gland. They will not say the supporters are \"rude, uncultured, and thugs\". But because it's Peter Obi that's trending, they are bitter. The bitterness will choke them. PeterObiForPresident2023\n",
      "\n",
      "4) The true legacy of Buhari is this. That: \"Bad behavior, mediocre work,failure has no consequence\" This does not align with natural law... This is an anomaly. Voting PeterObiForPresident2023 Seeks to correct that\n",
      "\n",
      "5) I lost my dad yesterday, he promise me to vote for  but today he's no more. May his soul rest in peace amen. Rest In Peace big daddy PeterObiForPresident2023\n",
      "\n",
      "6) This election is a choice between good and evil. We can not allow evil prevail. We plenty pass dem PeterObiForPresident2023\n",
      "\n",
      "7) If you Neva get your Voter's card no like this picture .. because we don't have anything in common PeterObiForPresident2023 \n",
      "\n",
      "8) The bike I took today said, abeg as you Dey go church pray for Peter Obi, I was shocked! Omo, this thing is for real. PeterObiForPresident2023\n",
      "\n",
      "9) The gospel is spreading like wide fire. PeterObiForPresident2023 OBIdients PeterObi\n",
      "\n",
      "10) If you vote Peter Obi you will go to jail Me and my gang OBIdient VotePeterObiForPresident2023 PeterObiForPresident2023 PeterObi YouthVoteCountNG\n",
      "\n",
      "11) Nigerians are NOT doing  a favor by supporting him. We are voting him to help repair our country. We are in dire need of a transformational leader. 150 million Nigerians need a new direction. Old politicians have failed and will CONTINUE to fail.PeterObiForPresident2023\n",
      "\n",
      "12) For once let’s have a presentable president who can speak atleast ! As for the youths ! Peter Obi is the ways o! Smart moves ! 8 years added to my years no be beans o! Enough of the wicked and bad Governance  PeterObiForPresident2023\n",
      "\n",
      "13) My friend was in Dubai on official duty. On tour around d artificial city, one of them prayed that the  presidency will help Nigeria reclaim its position in Africa & globally.I agreed 101% PeterObiForPresident2023 TakeBackNaija\n",
      "\n",
      "14) How idiotic and shameless is Peter Obi supporters are ? You shouting that you will stone Dave Omahi just because he is supporting Tinubu but you want the Yoruba in South west to spread a red carpet for Peter Obi ? PeterObiForPresident2023 PeterObi4President\n",
      "\n",
      "15) I’m sorry. I can’t keep calm. Peter Obi is in my church today. My president! PeterObiForPresident2023\n",
      "\n",
      "16) Expect Propaganda against Obi. They are so scared of is acceptance and popularity. At a stage both APC and PDP boys will join hands together to fight this project. Solution. All eye's on the ball. PeterObiForPresident2023 Nothing less.\n",
      "\n",
      "17) At least have a reason to go get your PVC and a reason to vote. Follow  Obi cubana Nnamdi Kalu Dangote pervezmusharraf Jagaban PeterObiForPresident2023\n",
      "\n"
     ]
    }
   ],
   "source": [
    "#lets look at the negative tweets\n",
    "x = 1\n",
    "sorteddf= obi_tweets.sort_values(by= ['polarity'], ascending= False)\n",
    "for i in range(0,sorteddf.shape[0]):\n",
    "    if (sorteddf['analysis'][i] == 'Negative'):\n",
    "        print(str(x) + ') ' + sorteddf['tweets'][i])\n",
    "        print()\n",
    "        x = x+ 1"
   ]
  },
  {
   "cell_type": "markdown",
   "id": "72b73d8f",
   "metadata": {},
   "source": [
    "While some of the tweets don't appear negative, it can be that the program saw a word, for instance 'evil' in the sentence and tagged the tweet as negative. "
   ]
  },
  {
   "cell_type": "code",
   "execution_count": 27,
   "id": "a473565f",
   "metadata": {},
   "outputs": [
    {
     "data": {
      "text/plain": [
       "Text(0.5, 1.0, 'Polarity v Subjectivity')"
      ]
     },
     "execution_count": 27,
     "metadata": {},
     "output_type": "execute_result"
    },
    {
     "data": {
      "image/png": "[encoded data removed]",
      "text/plain": [
       "<Figure size 720x360 with 1 Axes>"
      ]
     },
     "metadata": {},
     "output_type": "display_data"
    }
   ],
   "source": [
    "#plot the polarity and subjectivity\n",
    "plt.figure(figsize=(10,5))\n",
    "\n",
    "plt.scatter(data= obi_tweets, x= 'polarity', y= 'subjectivity')\n",
    "plt.xlabel('Polarity', fontdict= {'fontsize': 13})\n",
    "plt.ylabel('Subjectivity', fontdict= {'fontsize': 13})\n",
    "plt.title('Polarity v Subjectivity', fontdict= {'fontsize': 20})"
   ]
  },
  {
   "cell_type": "code",
   "execution_count": 28,
   "id": "5e409a37",
   "metadata": {},
   "outputs": [
    {
     "name": "stdout",
     "output_type": "stream",
     "text": [
      "The percentage of negative tweet is: 52.4%\n"
     ]
    }
   ],
   "source": [
    "#percentage of positive tweets\n",
    "postweets= obi_tweets[obi_tweets['analysis'] == 'Positive']\n",
    "postweetpercent = round((postweets.shape[0] / obi_tweets.shape[0])  * 100, 1)\n",
    "print(\"The percentage of negative tweet is: \" + str(postweetpercent) + '%')"
   ]
  },
  {
   "cell_type": "code",
   "execution_count": 29,
   "id": "451b223c",
   "metadata": {},
   "outputs": [
    {
     "name": "stdout",
     "output_type": "stream",
     "text": [
      "The percentage of negative tweet is: 20.7%\n"
     ]
    }
   ],
   "source": [
    "#percentage of positive tweets\n",
    "negtweets= obi_tweets[obi_tweets['analysis'] == 'Negative']\n",
    "negtweetpercent = round((negtweets.shape[0] / obi_tweets.shape[0])  * 100, 1)\n",
    "print(\"The percentage of negative tweet is: \" + str(negtweetpercent) + '%')"
   ]
  },
  {
   "cell_type": "code",
   "execution_count": 54,
   "id": "8910fd67",
   "metadata": {},
   "outputs": [
    {
     "data": {
      "text/plain": [
       "Text(0.5, 1.0, 'Sentiment Analysis')"
      ]
     },
     "execution_count": 54,
     "metadata": {},
     "output_type": "execute_result"
    },
    {
     "data": {
      "image/png": "[encoded data removed]",
      "text/plain": [
       "<Figure size 720x360 with 1 Axes>"
      ]
     },
     "metadata": {},
     "output_type": "display_data"
    }
   ],
   "source": [
    "#lets plot the analysis variable\n",
    "plt.figure(figsize= (10,5))\n",
    "\n",
    "obi_tweets['analysis'].value_counts().plot(kind='bar')\n",
    "plt.xlabel('Sentiment', fontdict= {'fontsize' : 13})\n",
    "plt.ylabel('Counts', fontdict= {'fontsize':13})\n",
    "plt.title('Sentiment Analysis', fontdict= {'fontsize': 20, 'color': 'black'})\n"
   ]
  },
  {
   "cell_type": "markdown",
   "id": "60a41608",
   "metadata": {},
   "source": [
    "It will appear we have more positive tweets than negative.\n",
    "\n",
    "Take note that not all negative tweets are in a strict sense negative tweets."
   ]
  },
  {
   "cell_type": "code",
   "execution_count": null,
   "id": "c3242693",
   "metadata": {},
   "outputs": [],
   "source": []
  }
 ],
 "metadata": {
  "kernelspec": {
   "display_name": "Python 3 (ipykernel)",
   "language": "python",
   "name": "python3"
  },
  "language_info": {
   "codemirror_mode": {
    "name": "ipython",
    "version": 3
   },
   "file_extension": ".py",
   "mimetype": "text/x-python",
   "name": "python",
   "nbconvert_exporter": "python",
   "pygments_lexer": "ipython3",
   "version": "3.9.7"
  }
 },
 "nbformat": 4,
 "nbformat_minor": 5
}
